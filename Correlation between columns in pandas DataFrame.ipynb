{
 "cells": [
  {
   "cell_type": "code",
   "execution_count": null,
   "metadata": {
    "collapsed": true
   },
   "outputs": [],
   "source": [
    "'''In this notebook, I will show how to find a correlation between two columns in pandas DataFrame.\n",
    "I use my usual dataset - although it probably is not the best sample dataset as the correlations will not\n",
    "mean anything.'''"
   ]
  },
  {
   "cell_type": "code",
   "execution_count": 5,
   "metadata": {
    "collapsed": true
   },
   "outputs": [],
   "source": [
    "# I import pandas\n",
    "import pandas as pd\n",
    "import scipy.stats"
   ]
  },
  {
   "cell_type": "code",
   "execution_count": 2,
   "metadata": {
    "collapsed": false
   },
   "outputs": [
    {
     "data": {
      "text/html": [
       "<div>\n",
       "<table border=\"1\" class=\"dataframe\">\n",
       "  <thead>\n",
       "    <tr style=\"text-align: right;\">\n",
       "      <th></th>\n",
       "      <th>NOPD_Item</th>\n",
       "      <th>Type_</th>\n",
       "      <th>TypeText</th>\n",
       "      <th>Priority</th>\n",
       "      <th>MapX</th>\n",
       "      <th>MapY</th>\n",
       "      <th>TimeCreate</th>\n",
       "      <th>TimeDispatch</th>\n",
       "      <th>TimeArrive</th>\n",
       "      <th>TimeClosed</th>\n",
       "      <th>Disposition</th>\n",
       "      <th>DispositionText</th>\n",
       "      <th>BLOCK_ADDRESS</th>\n",
       "      <th>Zip</th>\n",
       "      <th>PoliceDistrict</th>\n",
       "      <th>Location</th>\n",
       "    </tr>\n",
       "  </thead>\n",
       "  <tbody>\n",
       "    <tr>\n",
       "      <th>0</th>\n",
       "      <td>A0000115</td>\n",
       "      <td>56</td>\n",
       "      <td>SIMPLE CRIMINAL DAMAGE</td>\n",
       "      <td>1D</td>\n",
       "      <td>3682553</td>\n",
       "      <td>532626</td>\n",
       "      <td>01/01/2015 12:00:34 AM</td>\n",
       "      <td>01/01/2015 01:24:47 AM</td>\n",
       "      <td>01/01/2015 01:41:20 AM</td>\n",
       "      <td>01/01/2015 01:41:30 AM</td>\n",
       "      <td>UNF</td>\n",
       "      <td>UNFOUNDED</td>\n",
       "      <td>007XX Orleans Ave</td>\n",
       "      <td>70116.0</td>\n",
       "      <td>8</td>\n",
       "      <td>(29.95850519, -90.06470624)</td>\n",
       "    </tr>\n",
       "    <tr>\n",
       "      <th>1</th>\n",
       "      <td>A0000215</td>\n",
       "      <td>21</td>\n",
       "      <td>COMPLAINT OTHER</td>\n",
       "      <td>1H</td>\n",
       "      <td>3682368</td>\n",
       "      <td>532820</td>\n",
       "      <td>01/01/2015 12:00:36 AM</td>\n",
       "      <td>NaN</td>\n",
       "      <td>01/01/2015 12:00:36 AM</td>\n",
       "      <td>01/01/2015 01:31:54 AM</td>\n",
       "      <td>NAT</td>\n",
       "      <td>Necessary Action Taken</td>\n",
       "      <td>Bourbon St &amp; Orleans Ave</td>\n",
       "      <td>70116.0</td>\n",
       "      <td>8</td>\n",
       "      <td>(29.95904477, -90.06528204)</td>\n",
       "    </tr>\n",
       "    <tr>\n",
       "      <th>2</th>\n",
       "      <td>A0000415</td>\n",
       "      <td>94</td>\n",
       "      <td>DISCHARGING FIREARM</td>\n",
       "      <td>1A</td>\n",
       "      <td>3686245</td>\n",
       "      <td>546280</td>\n",
       "      <td>01/01/2015 12:01:47 AM</td>\n",
       "      <td>01/01/2015 01:20:19 AM</td>\n",
       "      <td>NaN</td>\n",
       "      <td>01/01/2015 01:32:38 AM</td>\n",
       "      <td>UNF</td>\n",
       "      <td>UNFOUNDED</td>\n",
       "      <td>Clematis St &amp; Acacia St</td>\n",
       "      <td>70122.0</td>\n",
       "      <td>3</td>\n",
       "      <td>(29.99593586, -90.05256561)</td>\n",
       "    </tr>\n",
       "    <tr>\n",
       "      <th>3</th>\n",
       "      <td>A0000515</td>\n",
       "      <td>107</td>\n",
       "      <td>SUSPICIOUS PERSON</td>\n",
       "      <td>2A</td>\n",
       "      <td>3687521</td>\n",
       "      <td>537825</td>\n",
       "      <td>01/01/2015 12:02:22 AM</td>\n",
       "      <td>01/01/2015 12:08:17 AM</td>\n",
       "      <td>01/01/2015 12:13:19 AM</td>\n",
       "      <td>01/01/2015 12:24:40 AM</td>\n",
       "      <td>GOA</td>\n",
       "      <td>GONE ON ARRIVAL</td>\n",
       "      <td>026XX N Robertson St</td>\n",
       "      <td>70117.0</td>\n",
       "      <td>5</td>\n",
       "      <td>(29.97264816, -90.04883217)</td>\n",
       "    </tr>\n",
       "    <tr>\n",
       "      <th>4</th>\n",
       "      <td>A0000615</td>\n",
       "      <td>21</td>\n",
       "      <td>COMPLAINT OTHER</td>\n",
       "      <td>1H</td>\n",
       "      <td>3682082</td>\n",
       "      <td>529645</td>\n",
       "      <td>01/01/2015 12:02:44 AM</td>\n",
       "      <td>NaN</td>\n",
       "      <td>NaN</td>\n",
       "      <td>01/01/2015 01:22:17 AM</td>\n",
       "      <td>VOI</td>\n",
       "      <td>VOID</td>\n",
       "      <td>003XX Canal St</td>\n",
       "      <td>70130.0</td>\n",
       "      <td>8</td>\n",
       "      <td>(29.95032257, -90.06629572)</td>\n",
       "    </tr>\n",
       "  </tbody>\n",
       "</table>\n",
       "</div>"
      ],
      "text/plain": [
       "  NOPD_Item Type_                TypeText Priority     MapX    MapY  \\\n",
       "0  A0000115    56  SIMPLE CRIMINAL DAMAGE       1D  3682553  532626   \n",
       "1  A0000215    21         COMPLAINT OTHER       1H  3682368  532820   \n",
       "2  A0000415    94     DISCHARGING FIREARM       1A  3686245  546280   \n",
       "3  A0000515   107       SUSPICIOUS PERSON       2A  3687521  537825   \n",
       "4  A0000615    21         COMPLAINT OTHER       1H  3682082  529645   \n",
       "\n",
       "               TimeCreate            TimeDispatch              TimeArrive  \\\n",
       "0  01/01/2015 12:00:34 AM  01/01/2015 01:24:47 AM  01/01/2015 01:41:20 AM   \n",
       "1  01/01/2015 12:00:36 AM                     NaN  01/01/2015 12:00:36 AM   \n",
       "2  01/01/2015 12:01:47 AM  01/01/2015 01:20:19 AM                     NaN   \n",
       "3  01/01/2015 12:02:22 AM  01/01/2015 12:08:17 AM  01/01/2015 12:13:19 AM   \n",
       "4  01/01/2015 12:02:44 AM                     NaN                     NaN   \n",
       "\n",
       "               TimeClosed Disposition         DispositionText  \\\n",
       "0  01/01/2015 01:41:30 AM         UNF               UNFOUNDED   \n",
       "1  01/01/2015 01:31:54 AM         NAT  Necessary Action Taken   \n",
       "2  01/01/2015 01:32:38 AM         UNF               UNFOUNDED   \n",
       "3  01/01/2015 12:24:40 AM         GOA         GONE ON ARRIVAL   \n",
       "4  01/01/2015 01:22:17 AM         VOI                    VOID   \n",
       "\n",
       "              BLOCK_ADDRESS      Zip  PoliceDistrict  \\\n",
       "0         007XX Orleans Ave  70116.0               8   \n",
       "1  Bourbon St & Orleans Ave  70116.0               8   \n",
       "2   Clematis St & Acacia St  70122.0               3   \n",
       "3      026XX N Robertson St  70117.0               5   \n",
       "4            003XX Canal St  70130.0               8   \n",
       "\n",
       "                      Location  \n",
       "0  (29.95850519, -90.06470624)  \n",
       "1  (29.95904477, -90.06528204)  \n",
       "2  (29.99593586, -90.05256561)  \n",
       "3  (29.97264816, -90.04883217)  \n",
       "4  (29.95032257, -90.06629572)  "
      ]
     },
     "execution_count": 2,
     "metadata": {},
     "output_type": "execute_result"
    }
   ],
   "source": [
    "# I read the CSV file.\n",
    "twenty15_df = pd.read_csv(\"Calls_for_Service_2015.csv\")\n",
    "twenty15_df.head()"
   ]
  },
  {
   "cell_type": "code",
   "execution_count": null,
   "metadata": {
    "collapsed": true
   },
   "outputs": [],
   "source": [
    "'''There are two ways of finding correlation in pandas. Firstly, I find the pairwise correlation\n",
    "df.corr()\n",
    "You will see below that any non-numeric columns are excluded from calculating correlation - this makes sense.'''"
   ]
  },
  {
   "cell_type": "code",
   "execution_count": 4,
   "metadata": {
    "collapsed": false
   },
   "outputs": [
    {
     "data": {
      "text/html": [
       "<div>\n",
       "<table border=\"1\" class=\"dataframe\">\n",
       "  <thead>\n",
       "    <tr style=\"text-align: right;\">\n",
       "      <th></th>\n",
       "      <th>MapX</th>\n",
       "      <th>MapY</th>\n",
       "      <th>Zip</th>\n",
       "      <th>PoliceDistrict</th>\n",
       "    </tr>\n",
       "  </thead>\n",
       "  <tbody>\n",
       "    <tr>\n",
       "      <th>MapX</th>\n",
       "      <td>1.000000</td>\n",
       "      <td>0.999715</td>\n",
       "      <td>-0.010306</td>\n",
       "      <td>0.028274</td>\n",
       "    </tr>\n",
       "    <tr>\n",
       "      <th>MapY</th>\n",
       "      <td>0.999715</td>\n",
       "      <td>1.000000</td>\n",
       "      <td>-0.001584</td>\n",
       "      <td>0.030892</td>\n",
       "    </tr>\n",
       "    <tr>\n",
       "      <th>Zip</th>\n",
       "      <td>-0.010306</td>\n",
       "      <td>-0.001584</td>\n",
       "      <td>1.000000</td>\n",
       "      <td>0.259940</td>\n",
       "    </tr>\n",
       "    <tr>\n",
       "      <th>PoliceDistrict</th>\n",
       "      <td>0.028274</td>\n",
       "      <td>0.030892</td>\n",
       "      <td>0.259940</td>\n",
       "      <td>1.000000</td>\n",
       "    </tr>\n",
       "  </tbody>\n",
       "</table>\n",
       "</div>"
      ],
      "text/plain": [
       "                    MapX      MapY       Zip  PoliceDistrict\n",
       "MapX            1.000000  0.999715 -0.010306        0.028274\n",
       "MapY            0.999715  1.000000 -0.001584        0.030892\n",
       "Zip            -0.010306 -0.001584  1.000000        0.259940\n",
       "PoliceDistrict  0.028274  0.030892  0.259940        1.000000"
      ]
     },
     "execution_count": 4,
     "metadata": {},
     "output_type": "execute_result"
    }
   ],
   "source": [
    "twenty15_df.corr()"
   ]
  },
  {
   "cell_type": "code",
   "execution_count": null,
   "metadata": {
    "collapsed": true
   },
   "outputs": [],
   "source": [
    "'''However, using this function does not give us the p-value. This means that I have no idea if these correlations\n",
    "are statistically significant.'''"
   ]
  },
  {
   "cell_type": "code",
   "execution_count": 7,
   "metadata": {
    "collapsed": false
   },
   "outputs": [
    {
     "data": {
      "text/plain": [
       "(0.99971466690145094, 0.0)"
      ]
     },
     "execution_count": 7,
     "metadata": {},
     "output_type": "execute_result"
    }
   ],
   "source": [
    "'''Here I pick the two columns between which I want to find the correlation.\n",
    "I use the Pearson correlation'''\n",
    "\n",
    "x = twenty15_df['MapX']\n",
    "y = twenty15_df['MapY']\n",
    "\n",
    "scipy.stats.pearsonr(x, y)\n",
    "\n",
    "'''Here I can see both: the correlation - which is really strong and then the p-value, which indicates that\n",
    "this is statistically significant.'''"
   ]
  }
 ],
 "metadata": {
  "kernelspec": {
   "display_name": "Python 2",
   "language": "python",
   "name": "python2"
  },
  "language_info": {
   "codemirror_mode": {
    "name": "ipython",
    "version": 2
   },
   "file_extension": ".py",
   "mimetype": "text/x-python",
   "name": "python",
   "nbconvert_exporter": "python",
   "pygments_lexer": "ipython2",
   "version": "2.7.11"
  }
 },
 "nbformat": 4,
 "nbformat_minor": 0
}
