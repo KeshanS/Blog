{
 "cells": [
  {
   "cell_type": "raw",
   "metadata": {},
   "source": [
    "In this example, I use the data on calls for service from New Orleans.\n",
    "This data are available here: https://data.nola.gov/\n",
    "I use the dataset from 2015. I downloaded the CSV files."
   ]
  },
  {
   "cell_type": "code",
   "execution_count": 8,
   "metadata": {
    "collapsed": true
   },
   "outputs": [],
   "source": [
    "# I import pandas and I display the precision of floats to 2 digits.\n",
    "import pandas as pd\n",
    "pd.set_option('display.precision', 2)"
   ]
  },
  {
   "cell_type": "code",
   "execution_count": 3,
   "metadata": {
    "collapsed": true
   },
   "outputs": [],
   "source": [
    "# I read the CSV file.\n",
    "twenty15_df = pd.read_csv(\"Calls_for_Service_2015.csv\")"
   ]
  },
  {
   "cell_type": "raw",
   "metadata": {},
   "source": [
    "To see what columns you have in your DataFrame, use:\n",
    "df.columns"
   ]
  },
  {
   "cell_type": "code",
   "execution_count": 5,
   "metadata": {
    "collapsed": false
   },
   "outputs": [
    {
     "data": {
      "text/plain": [
       "Index([u'NOPD_Item', u'Type_', u'TypeText', u'Priority', u'MapX', u'MapY',\n",
       "       u'TimeCreate', u'TimeDispatch', u'TimeArrive', u'TimeClosed',\n",
       "       u'Disposition', u'DispositionText', u'BLOCK_ADDRESS', u'Zip',\n",
       "       u'PoliceDistrict', u'Location'],\n",
       "      dtype='object')"
      ]
     },
     "execution_count": 5,
     "metadata": {},
     "output_type": "execute_result"
    }
   ],
   "source": [
    "# I read the CSV file. I want to know what columns I have.\n",
    "twenty15_df.columns"
   ]
  },
  {
   "cell_type": "raw",
   "metadata": {},
   "source": [
    "If you are wondering what type of objects you have in your DataFrame, use:\n",
    "df.types"
   ]
  },
  {
   "cell_type": "code",
   "execution_count": 7,
   "metadata": {
    "collapsed": false
   },
   "outputs": [
    {
     "data": {
      "text/plain": [
       "NOPD_Item           object\n",
       "Type_               object\n",
       "TypeText            object\n",
       "Priority            object\n",
       "MapX                 int64\n",
       "MapY                 int64\n",
       "TimeCreate          object\n",
       "TimeDispatch        object\n",
       "TimeArrive          object\n",
       "TimeClosed          object\n",
       "Disposition         object\n",
       "DispositionText     object\n",
       "BLOCK_ADDRESS       object\n",
       "Zip                float64\n",
       "PoliceDistrict       int64\n",
       "Location            object\n",
       "dtype: object"
      ]
     },
     "execution_count": 7,
     "metadata": {},
     "output_type": "execute_result"
    }
   ],
   "source": [
    "# I want to see what type of objects I have in the DataFrame.\n",
    "# Note - object means string in pandas.\n",
    "twenty15_df.dtypes"
   ]
  },
  {
   "cell_type": "raw",
   "metadata": {},
   "source": [
    "Viewing the entire DataFrame may not be desirable. \n",
    "df.head() - Lets you see the first 5 rows.\n",
    "df.tail() - Lets you see the last 5 rows.\n",
    "df.head(n) - You can see the first n rows.\n",
    "df.tail(n) - You can see the last n rows."
   ]
  },
  {
   "cell_type": "code",
   "execution_count": 9,
   "metadata": {
    "collapsed": false
   },
   "outputs": [
    {
     "data": {
      "text/html": [
       "<div>\n",
       "<table border=\"1\" class=\"dataframe\">\n",
       "  <thead>\n",
       "    <tr style=\"text-align: right;\">\n",
       "      <th></th>\n",
       "      <th>NOPD_Item</th>\n",
       "      <th>Type_</th>\n",
       "      <th>TypeText</th>\n",
       "      <th>Priority</th>\n",
       "      <th>MapX</th>\n",
       "      <th>MapY</th>\n",
       "      <th>TimeCreate</th>\n",
       "      <th>TimeDispatch</th>\n",
       "      <th>TimeArrive</th>\n",
       "      <th>TimeClosed</th>\n",
       "      <th>Disposition</th>\n",
       "      <th>DispositionText</th>\n",
       "      <th>BLOCK_ADDRESS</th>\n",
       "      <th>Zip</th>\n",
       "      <th>PoliceDistrict</th>\n",
       "      <th>Location</th>\n",
       "    </tr>\n",
       "  </thead>\n",
       "  <tbody>\n",
       "    <tr>\n",
       "      <th>0</th>\n",
       "      <td>A0000115</td>\n",
       "      <td>56</td>\n",
       "      <td>SIMPLE CRIMINAL DAMAGE</td>\n",
       "      <td>1D</td>\n",
       "      <td>3682553</td>\n",
       "      <td>532626</td>\n",
       "      <td>01/01/2015 12:00:34 AM</td>\n",
       "      <td>01/01/2015 01:24:47 AM</td>\n",
       "      <td>01/01/2015 01:41:20 AM</td>\n",
       "      <td>01/01/2015 01:41:30 AM</td>\n",
       "      <td>UNF</td>\n",
       "      <td>UNFOUNDED</td>\n",
       "      <td>007XX Orleans Ave</td>\n",
       "      <td>70116.0</td>\n",
       "      <td>8</td>\n",
       "      <td>(29.95850519, -90.06470624)</td>\n",
       "    </tr>\n",
       "    <tr>\n",
       "      <th>1</th>\n",
       "      <td>A0000215</td>\n",
       "      <td>21</td>\n",
       "      <td>COMPLAINT OTHER</td>\n",
       "      <td>1H</td>\n",
       "      <td>3682368</td>\n",
       "      <td>532820</td>\n",
       "      <td>01/01/2015 12:00:36 AM</td>\n",
       "      <td>NaN</td>\n",
       "      <td>01/01/2015 12:00:36 AM</td>\n",
       "      <td>01/01/2015 01:31:54 AM</td>\n",
       "      <td>NAT</td>\n",
       "      <td>Necessary Action Taken</td>\n",
       "      <td>Bourbon St &amp; Orleans Ave</td>\n",
       "      <td>70116.0</td>\n",
       "      <td>8</td>\n",
       "      <td>(29.95904477, -90.06528204)</td>\n",
       "    </tr>\n",
       "    <tr>\n",
       "      <th>2</th>\n",
       "      <td>A0000415</td>\n",
       "      <td>94</td>\n",
       "      <td>DISCHARGING FIREARM</td>\n",
       "      <td>1A</td>\n",
       "      <td>3686245</td>\n",
       "      <td>546280</td>\n",
       "      <td>01/01/2015 12:01:47 AM</td>\n",
       "      <td>01/01/2015 01:20:19 AM</td>\n",
       "      <td>NaN</td>\n",
       "      <td>01/01/2015 01:32:38 AM</td>\n",
       "      <td>UNF</td>\n",
       "      <td>UNFOUNDED</td>\n",
       "      <td>Clematis St &amp; Acacia St</td>\n",
       "      <td>70122.0</td>\n",
       "      <td>3</td>\n",
       "      <td>(29.99593586, -90.05256561)</td>\n",
       "    </tr>\n",
       "  </tbody>\n",
       "</table>\n",
       "</div>"
      ],
      "text/plain": [
       "  NOPD_Item Type_                TypeText Priority     MapX    MapY  \\\n",
       "0  A0000115    56  SIMPLE CRIMINAL DAMAGE       1D  3682553  532626   \n",
       "1  A0000215    21         COMPLAINT OTHER       1H  3682368  532820   \n",
       "2  A0000415    94     DISCHARGING FIREARM       1A  3686245  546280   \n",
       "\n",
       "               TimeCreate            TimeDispatch              TimeArrive  \\\n",
       "0  01/01/2015 12:00:34 AM  01/01/2015 01:24:47 AM  01/01/2015 01:41:20 AM   \n",
       "1  01/01/2015 12:00:36 AM                     NaN  01/01/2015 12:00:36 AM   \n",
       "2  01/01/2015 12:01:47 AM  01/01/2015 01:20:19 AM                     NaN   \n",
       "\n",
       "               TimeClosed Disposition         DispositionText  \\\n",
       "0  01/01/2015 01:41:30 AM         UNF               UNFOUNDED   \n",
       "1  01/01/2015 01:31:54 AM         NAT  Necessary Action Taken   \n",
       "2  01/01/2015 01:32:38 AM         UNF               UNFOUNDED   \n",
       "\n",
       "              BLOCK_ADDRESS      Zip  PoliceDistrict  \\\n",
       "0         007XX Orleans Ave  70116.0               8   \n",
       "1  Bourbon St & Orleans Ave  70116.0               8   \n",
       "2   Clematis St & Acacia St  70122.0               3   \n",
       "\n",
       "                      Location  \n",
       "0  (29.95850519, -90.06470624)  \n",
       "1  (29.95904477, -90.06528204)  \n",
       "2  (29.99593586, -90.05256561)  "
      ]
     },
     "execution_count": 9,
     "metadata": {},
     "output_type": "execute_result"
    }
   ],
   "source": [
    "# I want to see the first 3 rows of my DataFrame. If you don't pass a value, it will show first 5 rows.\n",
    "twenty15_df.head(3)"
   ]
  },
  {
   "cell_type": "code",
   "execution_count": 10,
   "metadata": {
    "collapsed": false
   },
   "outputs": [
    {
     "data": {
      "text/html": [
       "<div>\n",
       "<table border=\"1\" class=\"dataframe\">\n",
       "  <thead>\n",
       "    <tr style=\"text-align: right;\">\n",
       "      <th></th>\n",
       "      <th>NOPD_Item</th>\n",
       "      <th>Type_</th>\n",
       "      <th>TypeText</th>\n",
       "      <th>Priority</th>\n",
       "      <th>MapX</th>\n",
       "      <th>MapY</th>\n",
       "      <th>TimeCreate</th>\n",
       "      <th>TimeDispatch</th>\n",
       "      <th>TimeArrive</th>\n",
       "      <th>TimeClosed</th>\n",
       "      <th>Disposition</th>\n",
       "      <th>DispositionText</th>\n",
       "      <th>BLOCK_ADDRESS</th>\n",
       "      <th>Zip</th>\n",
       "      <th>PoliceDistrict</th>\n",
       "      <th>Location</th>\n",
       "    </tr>\n",
       "  </thead>\n",
       "  <tbody>\n",
       "    <tr>\n",
       "      <th>432875</th>\n",
       "      <td>L3543015</td>\n",
       "      <td>62A</td>\n",
       "      <td>BURGLAR ALARM, SILENT</td>\n",
       "      <td>2C</td>\n",
       "      <td>3680990</td>\n",
       "      <td>530196</td>\n",
       "      <td>12/31/2015 11:59:01 PM</td>\n",
       "      <td>01/01/2016 12:01:41 AM</td>\n",
       "      <td>NaN</td>\n",
       "      <td>01/01/2016 12:33:52 AM</td>\n",
       "      <td>NAT</td>\n",
       "      <td>Necessary Action Taken</td>\n",
       "      <td>002XX Saint Charles Ave</td>\n",
       "      <td>70130.0</td>\n",
       "      <td>8</td>\n",
       "      <td>(29.95187316, -90.06972467)</td>\n",
       "    </tr>\n",
       "    <tr>\n",
       "      <th>432876</th>\n",
       "      <td>L3543115</td>\n",
       "      <td>94F</td>\n",
       "      <td>FIREWORKS</td>\n",
       "      <td>1A</td>\n",
       "      <td>3664996</td>\n",
       "      <td>518491</td>\n",
       "      <td>12/31/2015 11:59:11 PM</td>\n",
       "      <td>NaN</td>\n",
       "      <td>NaN</td>\n",
       "      <td>01/01/2016 12:48:37 AM</td>\n",
       "      <td>DUP</td>\n",
       "      <td>DUPLICATE</td>\n",
       "      <td>006XX Eleonore St</td>\n",
       "      <td>70115.0</td>\n",
       "      <td>2</td>\n",
       "      <td>(29.92016354, -90.12061804)</td>\n",
       "    </tr>\n",
       "    <tr>\n",
       "      <th>432877</th>\n",
       "      <td>L3543215</td>\n",
       "      <td>94F</td>\n",
       "      <td>FIREWORKS</td>\n",
       "      <td>1A</td>\n",
       "      <td>3673236</td>\n",
       "      <td>541500</td>\n",
       "      <td>12/31/2015 11:59:32 PM</td>\n",
       "      <td>01/01/2016 01:34:48 AM</td>\n",
       "      <td>NaN</td>\n",
       "      <td>01/01/2016 01:56:45 AM</td>\n",
       "      <td>GOA</td>\n",
       "      <td>GONE ON ARRIVAL</td>\n",
       "      <td>Sherwood Forest Dr &amp; City Park Ave (3H02)</td>\n",
       "      <td>70119.0</td>\n",
       "      <td>3</td>\n",
       "      <td>(29.98318618, -90.09382263)</td>\n",
       "    </tr>\n",
       "  </tbody>\n",
       "</table>\n",
       "</div>"
      ],
      "text/plain": [
       "       NOPD_Item Type_               TypeText Priority     MapX    MapY  \\\n",
       "432875  L3543015   62A  BURGLAR ALARM, SILENT       2C  3680990  530196   \n",
       "432876  L3543115   94F              FIREWORKS       1A  3664996  518491   \n",
       "432877  L3543215   94F              FIREWORKS       1A  3673236  541500   \n",
       "\n",
       "                    TimeCreate            TimeDispatch TimeArrive  \\\n",
       "432875  12/31/2015 11:59:01 PM  01/01/2016 12:01:41 AM        NaN   \n",
       "432876  12/31/2015 11:59:11 PM                     NaN        NaN   \n",
       "432877  12/31/2015 11:59:32 PM  01/01/2016 01:34:48 AM        NaN   \n",
       "\n",
       "                    TimeClosed Disposition         DispositionText  \\\n",
       "432875  01/01/2016 12:33:52 AM         NAT  Necessary Action Taken   \n",
       "432876  01/01/2016 12:48:37 AM         DUP               DUPLICATE   \n",
       "432877  01/01/2016 01:56:45 AM         GOA         GONE ON ARRIVAL   \n",
       "\n",
       "                                    BLOCK_ADDRESS      Zip  PoliceDistrict  \\\n",
       "432875                    002XX Saint Charles Ave  70130.0               8   \n",
       "432876                          006XX Eleonore St  70115.0               2   \n",
       "432877  Sherwood Forest Dr & City Park Ave (3H02)  70119.0               3   \n",
       "\n",
       "                           Location  \n",
       "432875  (29.95187316, -90.06972467)  \n",
       "432876  (29.92016354, -90.12061804)  \n",
       "432877  (29.98318618, -90.09382263)  "
      ]
     },
     "execution_count": 10,
     "metadata": {},
     "output_type": "execute_result"
    }
   ],
   "source": [
    "# I want to see the last 3 rows of my DataFrame. Again, if you don't pass a value, it will show the last 5 rows.\n",
    "twenty15_df.tail(3)"
   ]
  },
  {
   "cell_type": "raw",
   "metadata": {},
   "source": [
    "Often, you have a number of different values within each column. If you want to see how many times each value appears,\n",
    "use value_counts:\n",
    "df['col1'].value_counts()"
   ]
  },
  {
   "cell_type": "code",
   "execution_count": 13,
   "metadata": {
    "collapsed": false
   },
   "outputs": [
    {
     "data": {
      "text/plain": [
       "COMPLAINT OTHER                                            106640\n",
       "TRAFFIC INCIDENT                                            52637\n",
       "BURGLAR ALARM, SILENT                                       49993\n",
       "DISTURBANCE (OTHER)                                         30871\n",
       "SUSPICIOUS PERSON                                           17680\n",
       "AUTO ACCIDENT                                               16990\n",
       "WARR STOP WITH RELEASE                                      11345\n",
       "DOMESTIC DISTURBANCE                                         9630\n",
       "HIT & RUN                                                    8997\n",
       "RETURN FOR ADDITIONAL INFO                                   8380\n",
       "MUNICIPAL ATTACHMENT                                         7242\n",
       "FUGITIVE ATTACHMENT                                          6778\n",
       "MEDICAL                                                      6195\n",
       "THEFT                                                        5603\n",
       "LOST PROPERTY                                                4888\n",
       "MENTAL PATIENT                                               4690\n",
       "FIGHT                                                        4456\n",
       "AUTO ACCIDENT WITH INJURY                                    4446\n",
       "NOISE COMPLAINT                                              4420\n",
       "SILENT 911 CALL                                              4256\n",
       "WRECKLESS DRIVING                                            4171\n",
       "SIMPLE CRIMINAL DAMAGE                                       4076\n",
       "AUTO THEFT                                                   3954\n",
       "SIMPLE BATTERY DOMESTIC                                      3843\n",
       "SIMPLE BATTERY                                               3789\n",
       "SIMPLE BURGLARY VEHICLE                                      3627\n",
       "SHOPLIFTING                                                  3623\n",
       "DISCHARGING FIREARM                                          2994\n",
       "RESIDENCE BURGLARY                                           2503\n",
       "DRUG VIOLATIONS                                              2272\n",
       "                                                            ...  \n",
       "HIT & RUN POLICE VEHICLE                                       11\n",
       "SIMPLE RAPE UNFOUNDED BY SPECIAL VICTIMS OR CHILD ABUSE        10\n",
       "SIMPLE BURGLARY DOMESTIC                                        9\n",
       "VIDEO VOYEURISM                                                 9\n",
       "ISSUING WORTHLESS CHECKS                                        8\n",
       "HOMICIDE BY CUTTING                                             8\n",
       "IMPERSONATING AN OFFICER                                        8\n",
       "SIMPLE RAPE MALE VICTIM                                         6\n",
       "PEEPING TOM                                                     6\n",
       "ELECTRONIC MONITORING ESCAPE/EVASION                            6\n",
       "ORAL SEXUAL BATTERY                                             5\n",
       "PROTEST                                                         5\n",
       "INCIDENT REQUESTED BY ANOTHER AGENCY                            4\n",
       "GAMBLING                                                        4\n",
       "SHOTSPOTTER- POSSIBLE GUNSHOTS                                  4\n",
       "CONTRIBUTING TO DELINQUENCY                                     3\n",
       "HIT & RUN FATALITY                                              3\n",
       "ABANDONED BOAT                                                  2\n",
       "BLIGHTED PROPERTY                                               2\n",
       "AGGRAVATED KIDNAPPING                                           2\n",
       "DESECRATION OF GRAVES                                           2\n",
       "CRIMINAL MISCHIEF DOMESTIC                                      1\n",
       "CRIME AGAINST NATURE                                            1\n",
       "FIREBOMB                                                        1\n",
       "SAFE BURGLARY                                                   1\n",
       "HOMICIDE DOMESTIC                                               1\n",
       "ASSET SEIZURE                                                   1\n",
       "PANDERING                                                       1\n",
       "PUBLIC BRIBERY                                                  1\n",
       "MEET AN OFFICER                                                 1\n",
       "Name: TypeText, dtype: int64"
      ]
     },
     "execution_count": 13,
     "metadata": {},
     "output_type": "execute_result"
    }
   ],
   "source": [
    "# This shows me how many values I have for each type of text.\n",
    "twenty15_df['TypeText'].value_counts()"
   ]
  },
  {
   "cell_type": "raw",
   "metadata": {},
   "source": [
    "You often may want to check for missing values. Again, use value count.\n",
    "pd.isnull(df.col1).value_counts()"
   ]
  },
  {
   "cell_type": "code",
   "execution_count": 14,
   "metadata": {
    "collapsed": false
   },
   "outputs": [
    {
     "data": {
      "text/plain": [
       "False    432878\n",
       "Name: TypeText, dtype: int64"
      ]
     },
     "execution_count": 14,
     "metadata": {},
     "output_type": "execute_result"
    }
   ],
   "source": [
    "# I also want to check for missing values in this column. As it shows false, it means there are no missing values.\n",
    "pd.isnull(twenty15_df.TypeText).value_counts()"
   ]
  },
  {
   "cell_type": "raw",
   "metadata": {},
   "source": [
    "If you are not sure what object you have (DataFrame? Series?), use type:\n",
    "type(object)"
   ]
  },
  {
   "cell_type": "code",
   "execution_count": 15,
   "metadata": {
    "collapsed": false
   },
   "outputs": [
    {
     "data": {
      "text/plain": [
       "pandas.core.frame.DataFrame"
      ]
     },
     "execution_count": 15,
     "metadata": {},
     "output_type": "execute_result"
    }
   ],
   "source": [
    "type(twenty15_df)"
   ]
  }
 ],
 "metadata": {
  "kernelspec": {
   "display_name": "Python 2",
   "language": "python",
   "name": "python2"
  },
  "language_info": {
   "codemirror_mode": {
    "name": "ipython",
    "version": 2
   },
   "file_extension": ".py",
   "mimetype": "text/x-python",
   "name": "python",
   "nbconvert_exporter": "python",
   "pygments_lexer": "ipython2",
   "version": "2.7.11"
  }
 },
 "nbformat": 4,
 "nbformat_minor": 0
}
